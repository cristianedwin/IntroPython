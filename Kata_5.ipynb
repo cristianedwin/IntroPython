{
 "cells": [
  {
   "cell_type": "code",
   "execution_count": 4,
   "metadata": {},
   "outputs": [
    {
     "name": "stdout",
     "output_type": "stream",
     "text": [
      "628949330\n",
      "390577533.93\n"
     ]
    }
   ],
   "source": [
    "Tierra = 149597870\n",
    "Jupiter = 778547200\n",
    "\n",
    "distance = Jupiter - Tierra\n",
    "print(distance)\n",
    "\n",
    "dist_millas = distance * 0.621\n",
    "print(dist_millas)"
   ]
  },
  {
   "cell_type": "code",
   "execution_count": 2,
   "metadata": {},
   "outputs": [
    {
     "name": "stdout",
     "output_type": "stream",
     "text": [
      "50300000\n",
      "31236300.0\n"
     ]
    }
   ],
   "source": [
    "planeta_1 = int(input(\"Ingresa la primer distancia: \"))\n",
    "planeta_2 = int(input(\"Ingresa la segunda distancia: \"))\n",
    "\n",
    "distancia = abs(planeta_1 - planeta_2)\n",
    "dist_millas = abs(distancia * 0.621)\n",
    "\n",
    "print(distancia)\n",
    "print(dist_millas)"
   ]
  }
 ],
 "metadata": {
  "interpreter": {
   "hash": "8c1ec22e922ae8fad7dda8ed6eff9b8ae215be00dec585af74955fa5c21a537f"
  },
  "kernelspec": {
   "display_name": "Python 3.10.2 64-bit",
   "language": "python",
   "name": "python3"
  },
  "language_info": {
   "codemirror_mode": {
    "name": "ipython",
    "version": 3
   },
   "file_extension": ".py",
   "mimetype": "text/x-python",
   "name": "python",
   "nbconvert_exporter": "python",
   "pygments_lexer": "ipython3",
   "version": "3.10.2"
  },
  "orig_nbformat": 4
 },
 "nbformat": 4,
 "nbformat_minor": 2
}

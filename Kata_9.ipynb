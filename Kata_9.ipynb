{
 "cells": [
  {
   "cell_type": "code",
   "execution_count": 4,
   "metadata": {},
   "outputs": [
    {
     "name": "stdout",
     "output_type": "stream",
     "text": [
      "Reporte de combustible: \n",
      "          promedio: 61.666666666666664%\n",
      "          tanque principal: 60%\n",
      "          tanque externo: 45%\n",
      "          tanque de hidrogeno: 80%\n",
      "None\n"
     ]
    }
   ],
   "source": [
    "def informes (tanque_1, tanque_2, tanque_3):\n",
    "    print(f\"\"\"Reporte de combustible: \n",
    "          promedio: {promedio([tanque_1, tanque_2, tanque_3])}%\n",
    "          tanque principal: {tanque_1}%\n",
    "          tanque externo: {tanque_2}%\n",
    "          tanque de hidrogeno: {tanque_3}%\"\"\")\n",
    "    \n",
    "def promedio (values):\n",
    "    total = sum(values)\n",
    "    tanques = len(values)\n",
    "    return total / tanques\n",
    "\n",
    "\n",
    "print(informes(60, 45, 80))\n",
    "    \n",
    "    \n"
   ]
  },
  {
   "cell_type": "code",
   "execution_count": 16,
   "metadata": {},
   "outputs": [
    {
     "name": "stdout",
     "output_type": "stream",
     "text": [
      "Reporte de Mision: \n",
      "          Destino: Marte\n",
      "          Tiempo de vuelo: 40 minutos\n",
      "          Combustible: 400000 galones\n",
      "          \n",
      "None\n",
      "Reporte de Mision:\n",
      "          Destino: Luna\n",
      "          Tiempo de vuelo: 50 minutos\n",
      "          Combustible: 400000 galones\n",
      "None\n",
      "Reporte de Mision:\n",
      "          Destino: Marte\n",
      "          Tiempo de vuelo: 65 minutos\n",
      "          Combustible: 500000 galones tanque principal --> 300000 galones restantes\n",
      " tanque externo --> 200000 galones restantes\n",
      "\n"
     ]
    }
   ],
   "source": [
    "def informe_de_lanzamiento(prelanzamiento, tiempo_de_vuelo, destino, tanque_externo, tanque_interno):\n",
    "    print(f\"\"\"Reporte de Mision: \n",
    "          Destino: {destino}\n",
    "          Tiempo de vuelo: {prelanzamiento + tiempo_de_vuelo} minutos\n",
    "          Combustible: {tanque_externo + tanque_interno} galones\n",
    "          \"\"\")\n",
    "    \n",
    "print(informe_de_lanzamiento(10, 30, 'Marte', 100000, 300000))\n",
    "\n",
    "def nuevo_informe(destino, *minutos, **reserva):\n",
    "    print(f\"\"\"Reporte de Mision:\n",
    "          Destino: {destino}\n",
    "          Tiempo de vuelo: {sum(minutos)} minutos\n",
    "          Combustible: {sum(reserva.values())} galones\"\"\")\n",
    "    \n",
    "print(nuevo_informe('Luna', 20, 30, min = 100000, max = 300000))\n",
    "\n",
    "def informe_final(destino, *minutos, **reserva):\n",
    "    reporte_principal = f\"\"\"Reporte de Mision:\n",
    "          Destino: {destino}\n",
    "          Tiempo de vuelo: {sum(minutos)} minutos\n",
    "          Combustible: {sum(reserva.values())} galones\"\"\"\n",
    "    \n",
    "    for n_tanque, galones in reserva.items():\n",
    "        reporte_principal += f\" tanque {n_tanque} --> {galones} galones restantes\\n\"\n",
    "    return reporte_principal\n",
    "\n",
    "print(informe_final('Marte', 15, 50, principal=300000, externo=200000))"
   ]
  }
 ],
 "metadata": {
  "interpreter": {
   "hash": "8c1ec22e922ae8fad7dda8ed6eff9b8ae215be00dec585af74955fa5c21a537f"
  },
  "kernelspec": {
   "display_name": "Python 3.10.2 64-bit",
   "language": "python",
   "name": "python3"
  },
  "language_info": {
   "codemirror_mode": {
    "name": "ipython",
    "version": 3
   },
   "file_extension": ".py",
   "mimetype": "text/x-python",
   "name": "python",
   "nbconvert_exporter": "python",
   "pygments_lexer": "ipython3",
   "version": "3.10.2"
  },
  "orig_nbformat": 4
 },
 "nbformat": 4,
 "nbformat_minor": 2
}

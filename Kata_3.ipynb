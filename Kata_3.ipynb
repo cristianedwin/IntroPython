{
 "cells": [
  {
   "cell_type": "code",
   "execution_count": 2,
   "metadata": {},
   "outputs": [
    {
     "name": "stdout",
     "output_type": "stream",
     "text": [
      "Advertencia asteroide acercandose !!!\n"
     ]
    }
   ],
   "source": [
    "a = 49\n",
    "b = 25\n",
    "\n",
    "if a > b:\n",
    "    print(\"Advertencia asteroide acercandose !!!\")\n"
   ]
  },
  {
   "cell_type": "code",
   "execution_count": 11,
   "metadata": {},
   "outputs": [
    {
     "name": "stdout",
     "output_type": "stream",
     "text": [
      "Mira una luz en el cielo\n"
     ]
    }
   ],
   "source": [
    "a = 20\n",
    "b = 20\n",
    "\n",
    "if b > a:\n",
    "    print(\"Buscar una luz en el cielo\")\n",
    "    \n",
    "elif b == a:\n",
    "    print(\"Mira una luz en el cielo\")\n",
    "    \n",
    "else:\n",
    "    print(\"Keep Walking\")\n",
    "    "
   ]
  },
  {
   "cell_type": "code",
   "execution_count": 9,
   "metadata": {},
   "outputs": [
    {
     "name": "stdout",
     "output_type": "stream",
     "text": [
      "Keep Walking\n"
     ]
    }
   ],
   "source": [
    "a = 10\n",
    "b = 15\n",
    "\n",
    "if a > 25 and b > 25:\n",
    "    print(\"asteroide acercandose\")\n",
    "    \n",
    "elif a >= 20:\n",
    "    print(\"Mira una luz en el cielo\")\n",
    "    \n",
    "elif b < 25:\n",
    "    print(\"Keep Walking\")\n",
    "    \n",
    "else:\n",
    "    print(\"Keep Walking\")\n",
    "     "
   ]
  }
 ],
 "metadata": {
  "interpreter": {
   "hash": "8c1ec22e922ae8fad7dda8ed6eff9b8ae215be00dec585af74955fa5c21a537f"
  },
  "kernelspec": {
   "display_name": "Python 3.10.2 64-bit",
   "language": "python",
   "name": "python3"
  },
  "language_info": {
   "codemirror_mode": {
    "name": "ipython",
    "version": 3
   },
   "file_extension": ".py",
   "mimetype": "text/x-python",
   "name": "python",
   "nbconvert_exporter": "python",
   "pygments_lexer": "ipython3",
   "version": "3.10.2"
  },
  "orig_nbformat": 4
 },
 "nbformat": 4,
 "nbformat_minor": 2
}

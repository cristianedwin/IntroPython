{
 "cells": [
  {
   "cell_type": "code",
   "execution_count": 7,
   "metadata": {},
   "outputs": [
    {
     "name": "stdout",
     "output_type": "stream",
     "text": [
      "['Mercurio', 'Venus', 'Tierra', 'Marte', 'Jupiter', 'Saturno', 'Neptuno']\n",
      "El ultimo planeta es: Pluton\n"
     ]
    }
   ],
   "source": [
    "#Ejercicio 1\n",
    "\n",
    "planetas = ['Mercurio', 'Venus', 'Tierra', 'Marte', 'Jupiter', 'Saturno', 'Neptuno']\n",
    "\n",
    "print(planetas)\n",
    "\n",
    "planetas.append('Pluton')\n",
    "print('El ultimo planeta es: ' + planetas[-1])"
   ]
  },
  {
   "cell_type": "code",
   "execution_count": 12,
   "metadata": {},
   "outputs": [
    {
     "name": "stdout",
     "output_type": "stream",
     "text": [
      "Los planetas mas cercanos al sol que Marte son: \n",
      "['Mercurio', 'Venus', 'Tierra']\n",
      "Los planetas mas alejados al sol que Marte son: \n",
      "['Jupiter', 'Saturno', 'Neptuno']\n"
     ]
    }
   ],
   "source": [
    "#Ejercicio 2\n",
    "\n",
    "planetas = ['Mercurio', 'Venus', 'Tierra', 'Marte', 'Jupiter', 'Saturno', 'Neptuno']\n",
    "\n",
    "planet = input(\"Ingresa en nombre de un planeta (inicia con una mayuscula): \")\n",
    "\n",
    "planeta = planetas.index(planet)\n",
    "\n",
    "print('Los planetas mas cercanos al sol que ' + planet + ' son: ' )\n",
    "print(planetas[0:planeta])\n",
    "\n",
    "print('Los planetas mas alejados al sol que ' + planet + ' son: ' )\n",
    "print(planetas[planeta + 1:])"
   ]
  }
 ],
 "metadata": {
  "interpreter": {
   "hash": "8c1ec22e922ae8fad7dda8ed6eff9b8ae215be00dec585af74955fa5c21a537f"
  },
  "kernelspec": {
   "display_name": "Python 3.10.2 64-bit",
   "language": "python",
   "name": "python3"
  },
  "language_info": {
   "codemirror_mode": {
    "name": "ipython",
    "version": 3
   },
   "file_extension": ".py",
   "mimetype": "text/x-python",
   "name": "python",
   "nbconvert_exporter": "python",
   "pygments_lexer": "ipython3",
   "version": "3.10.2"
  },
  "orig_nbformat": 4
 },
 "nbformat": 4,
 "nbformat_minor": 2
}

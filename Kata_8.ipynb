{
 "cells": [
  {
   "cell_type": "code",
   "execution_count": 27,
   "metadata": {},
   "outputs": [
    {
     "name": "stdout",
     "output_type": "stream",
     "text": [
      "el planeta Marte tiene 2 lunas\n",
      "el planeta Marte tiene una circunfenrencia polar de: 6752 km\n"
     ]
    }
   ],
   "source": [
    "planet = {\n",
    "    'name': 'Marte',\n",
    "    'moons': 2\n",
    "}\n",
    "\n",
    "print(f'el planeta {planet[\"name\"]} tiene {planet[\"moons\"]} lunas')\n",
    "\n",
    "planet.update(circunferencias = {'polar': 6752, 'equatorial': 6792})\n",
    "\n",
    "print(f'el planeta {planet[\"name\"]} tiene una circunfenrencia polar de: {planet[\"circunferencias\"][\"polar\"]} km')"
   ]
  },
  {
   "cell_type": "code",
   "execution_count": 6,
   "metadata": {},
   "outputs": [
    {
     "name": "stdout",
     "output_type": "stream",
     "text": [
      "Total de Lunas:  214\n",
      "promedio:  17.833333333333332\n"
     ]
    }
   ],
   "source": [
    "planet_moons = {\n",
    "    'mercury': 0,\n",
    "    'venus': 0,\n",
    "    'earth': 1,\n",
    "    'mars': 2,\n",
    "    'jupiter': 79,\n",
    "    'saturn': 82,\n",
    "    'uranus': 27,\n",
    "    'neptune': 14,\n",
    "    'pluto': 5,\n",
    "    'haumea': 2,\n",
    "    'makemake': 1,\n",
    "    'eris': 1\n",
    "}\n",
    "\n",
    "moons = planet_moons.values()\n",
    "planets = len(planet_moons.keys())\n",
    "\n",
    "total_moons = 0\n",
    "\n",
    "for moon in moons:\n",
    "    total_moons = total_moons + moon\n",
    "    \n",
    "promedio = total_moons / planets\n",
    "print('Total de Lunas: ', total_moons)\n",
    "print('promedio: ', promedio)"
   ]
  }
 ],
 "metadata": {
  "interpreter": {
   "hash": "8c1ec22e922ae8fad7dda8ed6eff9b8ae215be00dec585af74955fa5c21a537f"
  },
  "kernelspec": {
   "display_name": "Python 3.10.2 64-bit",
   "language": "python",
   "name": "python3"
  },
  "language_info": {
   "codemirror_mode": {
    "name": "ipython",
    "version": 3
   },
   "file_extension": ".py",
   "mimetype": "text/x-python",
   "name": "python",
   "nbconvert_exporter": "python",
   "pygments_lexer": "ipython3",
   "version": "3.10.2"
  },
  "orig_nbformat": 4
 },
 "nbformat": 4,
 "nbformat_minor": 2
}
